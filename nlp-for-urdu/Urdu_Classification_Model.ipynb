{
 "cells": [
  {
   "cell_type": "code",
   "execution_count": 50,
   "metadata": {},
   "outputs": [],
   "source": [
    "import re\n",
    "import pickle\n",
    "import pandas as pd\n",
    "import seaborn as sns\n",
    "import matplotlib.pyplot as plt\n",
    "from sklearn.model_selection import train_test_split\n",
    "from sklearn.feature_extraction.text import TfidfVectorizer\n",
    "from sklearn.metrics import precision_recall_fscore_support, accuracy_score\n",
    "from sklearn import svm\n",
    "from sklearn.feature_extraction.text import CountVectorizer\n",
    "from sklearn.linear_model import LogisticRegression\n",
    "import pandas as pd\n",
    "import numpy as np\n",
    "\n",
    "from sklearn.ensemble import RandomForestClassifier\n",
    "\n",
    "from sklearn.naive_bayes import GaussianNB\n",
    "from sklearn.neighbors import KNeighborsClassifier\n",
    "from sklearn import metrics\n",
    "from sklearn.pipeline import Pipeline\n",
    "from sklearn.naive_bayes import MultinomialNB\n",
    "from sklearn.linear_model import RidgeClassifier\n",
    "\n",
    "from sklearn.datasets import fetch_20newsgroups\n",
    "from sklearn.feature_extraction.text import CountVectorizer, TfidfTransformer\n",
    "from sklearn.decomposition import PCA\n",
    "from sklearn.metrics import plot_confusion_matrix\n",
    "\n",
    "from sklearn.neighbors import NearestCentroid\n",
    "\n",
    "from sklearn.linear_model import PassiveAggressiveClassifier\n"
   ]
  },
  {
   "cell_type": "code",
   "execution_count": 2,
   "metadata": {},
   "outputs": [
    {
     "name": "stdout",
     "output_type": "stream",
     "text": [
      "Total unique categories are: 5\n",
      "Count of occurance of each kEYWORD:\n"
     ]
    },
    {
     "data": {
      "text/plain": [
       "قتل وغارت        1930\n",
       "ظُلم و زیادتی    1585\n",
       "غیر متعلق         921\n",
       "چوری              730\n",
       "نشہ آور اشیاء     136\n",
       "Name: Category, dtype: int64"
      ]
     },
     "execution_count": 2,
     "metadata": {},
     "output_type": "execute_result"
    }
   ],
   "source": [
    "raw_data = pd.read_csv(\"crimenewsdataset5303.csv\", sep=\",\")\n",
    "\n",
    "raw_data.head()\n",
    "# check the size of the data and its class distribution\n",
    "sentences = raw_data['headline'].tolist()\n",
    "kEYWORD = raw_data['Category'].tolist()\n",
    "\n",
    "\n",
    "# Let's see how many categories we have here\n",
    "print(f\"Total unique categories are: {len(raw_data['Category'].value_counts())}\")\n",
    "print(f\"Count of occurance of each kEYWORD:\")\n",
    "raw_data['Category'].value_counts()\n"
   ]
  },
  {
   "cell_type": "code",
   "execution_count": 3,
   "metadata": {},
   "outputs": [
    {
     "name": "stderr",
     "output_type": "stream",
     "text": [
      "c:\\python39\\lib\\site-packages\\IPython\\core\\pylabtools.py:132: UserWarning: Glyph 1729 (\\N{ARABIC LETTER HEH GOAL}) missing from current font.\n",
      "  fig.canvas.print_figure(bytes_io, **kw)\n",
      "c:\\python39\\lib\\site-packages\\IPython\\core\\pylabtools.py:132: UserWarning: Matplotlib currently does not support Arabic natively.\n",
      "  fig.canvas.print_figure(bytes_io, **kw)\n"
     ]
    },
    {
     "data": {
      "image/png": "[encoded data removed]",
      "text/plain": [
       "<Figure size 432x288 with 1 Axes>"
      ]
     },
     "metadata": {
      "needs_background": "light"
     },
     "output_type": "display_data"
    }
   ],
   "source": [
    "sns.countplot(x='Category', data=raw_data)\n",
    "plt.show()"
   ]
  },
  {
   "cell_type": "code",
   "execution_count": 4,
   "metadata": {},
   "outputs": [],
   "source": [
    "# text cleaning and pre-processing:\n",
    "def delete_urdu_english_symbols(sentences):\n",
    "    cleaned = []\n",
    "    for sentence in sentences:\n",
    "        # Remove English and Urdu punctuations\n",
    "        text = re.sub(r\"\"\"[!\"#$%&'()*+,-./:;<=>?@[]^_`{|}~؛؟’‘٭ء،۔]+\"\"\", \" \", sentence)\n",
    "        # remove multiple spaces.\n",
    "        text = re.sub(r\" +\", \" \", text)\n",
    "        text = text.split(\" \")\n",
    "        # some stupid empty tokens should be removed.\n",
    "        text = [t.strip() for t in text if t.strip()]\n",
    "        cleaned.append(\" \".join(text))\n",
    "    return cleaned\n",
    "\n",
    "\n",
    "X = delete_urdu_english_symbols(sentences)\n",
    "Y = kEYWORD\n",
    "\n",
    "# print(X);\n",
    "# print(Y);"
   ]
  },
  {
   "cell_type": "code",
   "execution_count": 23,
   "metadata": {},
   "outputs": [],
   "source": [
    "# Feel free to use different ratios to split the data.\n",
    "train_text, test_text, train_labels, test_labels = train_test_split(X, Y, test_size=0.20, random_state=42)\n",
    "\n",
    "# training: tf-idf + logistic regression\n",
    "max_feature_num = 10000\n",
    "train_vectorizer = TfidfVectorizer(max_features=max_feature_num)\n",
    "train_vecs = train_vectorizer.fit_transform(train_text)\n",
    "\n",
    "# X_test1 = [\n",
    "#  'ملازمہ کےمبینہ قتل ہولناک واردات',\n",
    "#  'مستی گیٹ : دکان کاؤنٹر سے موبائل فون چوری فوٹیج سٹی42 نے حاصل کر',\n",
    "#  'ایف آئی اے بڑی کارروائی ، پاکستانی طلبا سے فراڈ کرنے ملزم گرفتار',\n",
    "#  'تھانیدار جنسی درندہ بن گیا ، خاتون کو مبینہ زیادتی کا نشانہ بنا ڈالا',\n",
    "#  'پولیس کا منشیات فروشوں کیخلاف کریک ڈاؤن ، 2 ملزم گرفتار',\n",
    "#  'ڈاکوؤں نے چینی باشندوں کو بھی نہ بخشا۔۔۔نقدی لوٹ کرفرار',\n",
    "#  'سمن آباد میں ہوائی فائرنگ کرنے 4 ملزم گرفتار ، اسلحہ برآمد',\n",
    "#  'کسٹمز حکام نے لندن ہیروئن سمگل کرنیکی کوشش ناکام بنا',\n",
    "#  'امریکہ میں رہائشی کمپلیکس میں فائرنگ، حملہ آور ہلاک',\n",
    "#  'نیم برہنہ حالت میں ملی لڑکی کی لاش، ریپ کے بعد کیا گیا نابالغہ کا قتل',]\n",
    "\n",
    "# test_vecs = TfidfVectorizer(max_features=max_feature_num, vocabulary=train_vectorizer.vocabulary_).fit_transform(\n",
    "#     X_test1)\n",
    "\n",
    "test_vecs = TfidfVectorizer(max_features=max_feature_num, vocabulary=train_vectorizer.vocabulary_).fit_transform(\n",
    "    test_text)\n"
   ]
  },
  {
   "cell_type": "code",
   "execution_count": null,
   "metadata": {},
   "outputs": [],
   "source": [
    ">> X, y = make_classification(random_state=0)\n",
    ">>> X_train, X_test, y_train, y_test = train_test_split(\n",
    "...         X, y, random_state=0)\n",
    ">>> clf = SVC(random_state=0)\n",
    ">>> clf.fit(X_train, y_train)\n",
    "SVC(random_state=0)\n",
    ">>> plot_confusion_matrix(clf, X_test, y_test)  \n",
    ">>> plt.show()"
   ]
  },
  {
   "cell_type": "code",
   "execution_count": null,
   "metadata": {},
   "outputs": [],
   "source": []
  },
  {
   "cell_type": "code",
   "execution_count": 36,
   "metadata": {},
   "outputs": [
    {
     "data": {
      "text/plain": [
       "LinearSVC(max_iter=5000)"
      ]
     },
     "execution_count": 36,
     "metadata": {},
     "output_type": "execute_result"
    }
   ],
   "source": [
    "# train model\n",
    "clf = svm.LinearSVC(max_iter=5000)\n",
    "clf.fit(train_vecs, train_labels)\n",
    "\n",
    "# test_pred = clf.predict(test_vecs)\n",
    "# acc = accuracy_score(test_labels, test_pred)\n",
    "# pre, rec, f1, _ = precision_recall_fscore_support(test_labels, test_pred, average='weighted')\n",
    "# print('acc', acc)\n",
    "# print('precision', pre)\n",
    "# print('rec', rec)\n",
    "# print('f1', f1)\n",
    "\n",
    "# plot_confusion_matrix(clf, train_vecs, train_labels)  \n",
    "# plt.show()"
   ]
  },
  {
   "cell_type": "code",
   "execution_count": 31,
   "metadata": {},
   "outputs": [
    {
     "name": "stdout",
     "output_type": "stream",
     "text": [
      "0.8548539114043355\n"
     ]
    }
   ],
   "source": [
    "قتل وغارت        1930\n",
    "ظُلم و زیادتی    1585\n",
    "غیر متعلق         921\n",
    "چوری              730\n",
    "نشہ آور اشیاء     136\n",
    "\n",
    "\n",
    "clf_tfidf_lsvc = Pipeline([('tfidf', TfidfVectorizer()),\n",
    "                     ('clf', svm.LinearSVC(max_iter=5000))])\n",
    "clf_tfidf_lsvc.fit(train_text, train_labels)\n",
    "# Form a prediction set\n",
    "predictions = clf_tfidf_lsvc.predict(test_text)\n",
    "# Print the overall accuracy\n",
    "print(metrics.accuracy_score(test_labels,predictions))"
   ]
  },
  {
   "cell_type": "code",
   "execution_count": 41,
   "metadata": {},
   "outputs": [
    {
     "name": "stdout",
     "output_type": "stream",
     "text": [
      "0.705937794533459\n"
     ]
    },
    {
     "name": "stderr",
     "output_type": "stream",
     "text": [
      "c:\\python39\\lib\\site-packages\\sklearn\\utils\\deprecation.py:87: FutureWarning: Function plot_confusion_matrix is deprecated; Function `plot_confusion_matrix` is deprecated in 1.0 and will be removed in 1.2. Use one of the class methods: ConfusionMatrixDisplay.from_predictions or ConfusionMatrixDisplay.from_estimator.\n",
      "  warnings.warn(msg, category=FutureWarning)\n",
      "c:\\python39\\lib\\site-packages\\IPython\\core\\pylabtools.py:132: UserWarning: Glyph 1729 (\\N{ARABIC LETTER HEH GOAL}) missing from current font.\n",
      "  fig.canvas.print_figure(bytes_io, **kw)\n",
      "c:\\python39\\lib\\site-packages\\IPython\\core\\pylabtools.py:132: UserWarning: Matplotlib currently does not support Arabic natively.\n",
      "  fig.canvas.print_figure(bytes_io, **kw)\n"
     ]
    },
    {
     "data": {
      "image/png": "[encoded data removed]",
      "text/plain": [
       "<Figure size 432x288 with 2 Axes>"
      ]
     },
     "metadata": {
      "needs_background": "light"
     },
     "output_type": "display_data"
    }
   ],
   "source": [
    "clf_tfidf_mnb = Pipeline([('tfidf', TfidfVectorizer()),\n",
    "                     ('clf', MultinomialNB())])\n",
    "\n",
    "# Feed the training data through the pipeline\n",
    "clf_tfidf_mnb.fit(train_text, train_labels) \n",
    "\n",
    "# Form a prediction set\n",
    "predictions = clf_tfidf_mnb.predict(test_text)\n",
    "# Print the overall accuracy\n",
    "print(metrics.accuracy_score(test_labels,predictions))\n",
    "\n",
    "plot_confusion_matrix(clf, train_vecs, train_labels)  \n",
    "plt.show()"
   ]
  },
  {
   "cell_type": "code",
   "execution_count": 18,
   "metadata": {},
   "outputs": [],
   "source": [
    "# clf_tfidf_gnb = Pipeline([('tfidf', TfidfVectorizer()),\n",
    "#                      ('clf', GaussianNB())])\n",
    "\n",
    "# # Feed the training data through the pipeline\n",
    "# clf_tfidf_gnb.fit(train_text, train_labels) \n",
    "\n",
    "# # Form a prediction set\n",
    "# predictions = clf_tfidf_gnb.predict(test_text)\n",
    "# # Print the overall accuracy\n",
    "# print(metrics.accuracy_score(test_labels,predictions))\n"
   ]
  },
  {
   "cell_type": "code",
   "execution_count": 33,
   "metadata": {},
   "outputs": [
    {
     "name": "stdout",
     "output_type": "stream",
     "text": [
      "0.8407163053722903\n"
     ]
    }
   ],
   "source": [
    "clf_tfidf_lr = Pipeline([('tfidf', TfidfVectorizer()),\n",
    "                     ('clf', LogisticRegression())])\n",
    "\n",
    "# Feed the training data through the pipeline\n",
    "clf_tfidf_lr.fit(train_text, train_labels) \n",
    "\n",
    "predictions = clf_tfidf_lr.predict(test_text)\n",
    "# Print the overall accuracy\n",
    "print(metrics.accuracy_score(test_labels,predictions))"
   ]
  },
  {
   "cell_type": "code",
   "execution_count": 34,
   "metadata": {},
   "outputs": [
    {
     "name": "stdout",
     "output_type": "stream",
     "text": [
      "0.6738925541941565\n"
     ]
    }
   ],
   "source": [
    "clf_tfidf_knc = Pipeline([('tfidf', TfidfVectorizer()),\n",
    "                     ('clf', KNeighborsClassifier())])\n",
    "\n",
    "# Feed the training data through the pipeline\n",
    "clf_tfidf_knc.fit(train_text, train_labels)\n",
    "\n",
    "predictions = clf_tfidf_knc.predict(test_text)\n",
    "# Print the overall accuracy\n",
    "print(metrics.accuracy_score(test_labels,predictions))"
   ]
  },
  {
   "cell_type": "code",
   "execution_count": 35,
   "metadata": {},
   "outputs": [
    {
     "name": "stdout",
     "output_type": "stream",
     "text": [
      "0.7832233741753063\n"
     ]
    }
   ],
   "source": [
    "clf_tfidf_rfc = Pipeline([('tfidf', TfidfVectorizer()),\n",
    "                     ('clf', RandomForestClassifier())])\n",
    "\n",
    "# Feed the training data through the pipeline\n",
    "clf_tfidf_rfc.fit(train_text, train_labels)\n",
    "\n",
    "predictions = clf_tfidf_rfc.predict(test_text)\n",
    "# Print the overall accuracy\n",
    "print(metrics.accuracy_score(test_labels,predictions))"
   ]
  },
  {
   "cell_type": "code",
   "execution_count": 16,
   "metadata": {},
   "outputs": [
    {
     "name": "stdout",
     "output_type": "stream",
     "text": [
      "acc 0.8454288407163054\n",
      "precision 0.845440873495773\n",
      "rec 0.8454288407163054\n",
      "f1 0.845050976008893\n"
     ]
    },
    {
     "name": "stderr",
     "output_type": "stream",
     "text": [
      "c:\\python39\\lib\\site-packages\\sklearn\\utils\\deprecation.py:87: FutureWarning: Function plot_confusion_matrix is deprecated; Function `plot_confusion_matrix` is deprecated in 1.0 and will be removed in 1.2. Use one of the class methods: ConfusionMatrixDisplay.from_predictions or ConfusionMatrixDisplay.from_estimator.\n",
      "  warnings.warn(msg, category=FutureWarning)\n",
      "c:\\python39\\lib\\site-packages\\IPython\\core\\pylabtools.py:132: UserWarning: Glyph 1729 (\\N{ARABIC LETTER HEH GOAL}) missing from current font.\n",
      "  fig.canvas.print_figure(bytes_io, **kw)\n",
      "c:\\python39\\lib\\site-packages\\IPython\\core\\pylabtools.py:132: UserWarning: Matplotlib currently does not support Arabic natively.\n",
      "  fig.canvas.print_figure(bytes_io, **kw)\n"
     ]
    },
    {
     "data": {
      "image/png": "[encoded data removed]",
      "text/plain": [
       "<Figure size 432x288 with 2 Axes>"
      ]
     },
     "metadata": {
      "needs_background": "light"
     },
     "output_type": "display_data"
    }
   ],
   "source": [
    "clf = RidgeClassifier().fit(train_vecs, train_labels)\n",
    "test_pred = clf.predict(test_vecs)\n",
    "acc = accuracy_score(test_labels, test_pred)\n",
    "pre, rec, f1, _ = precision_recall_fscore_support(test_labels, test_pred, average='weighted')\n",
    "print('acc', acc)\n",
    "print('precision', pre)\n",
    "print('rec', rec)\n",
    "print('f1', f1)\n",
    "\n",
    "plot_confusion_matrix(clf, train_vecs, train_labels)  \n",
    "plt.show()"
   ]
  },
  {
   "cell_type": "code",
   "execution_count": 37,
   "metadata": {},
   "outputs": [
    {
     "name": "stdout",
     "output_type": "stream",
     "text": [
      "ملازمہ کےمبینہ قتل ہولناک واردات\n",
      "قتل وغارت :Predicted as - \n",
      "\n",
      "\n",
      "مستی گیٹ : دکان کاؤنٹر سے موبائل فون چوری فوٹیج سٹی42 نے حاصل کر\n",
      "چوری :Predicted as - \n",
      "\n",
      "\n",
      "ایف آئی اے بڑی کارروائی ، پاکستانی طلبا سے فراڈ کرنے ملزم گرفتار\n",
      "غیر متعلق :Predicted as - \n",
      "\n",
      "\n",
      "تھانیدار جنسی درندہ بن گیا ، خاتون کو مبینہ زیادتی کا نشانہ بنا ڈالا\n",
      "ظُلم و زیادتی :Predicted as - \n",
      "\n",
      "\n",
      "پولیس کا منشیات فروشوں کیخلاف کریک ڈاؤن ، 2 ملزم گرفتار\n",
      "نشہ آور اشیاء :Predicted as - \n",
      "\n",
      "\n",
      "ڈاکوؤں نے چینی باشندوں کو بھی نہ بخشا۔۔۔نقدی لوٹ کرفرار\n",
      "چوری :Predicted as - \n",
      "\n",
      "\n",
      "سمن آباد میں ہوائی فائرنگ کرنے 4 ملزم گرفتار ، اسلحہ برآمد\n",
      "قتل وغارت :Predicted as - \n",
      "\n",
      "\n",
      "کسٹمز حکام نے لندن ہیروئن سمگل کرنیکی کوشش ناکام بنا\n",
      "چوری :Predicted as - \n",
      "\n",
      "\n",
      "امریکہ میں رہائشی کمپلیکس میں فائرنگ، حملہ آور ہلاک\n",
      "قتل وغارت :Predicted as - \n",
      "\n",
      "\n",
      "نیم برہنہ حالت میں ملی لڑکی کی لاش، ریپ کے بعد کیا گیا نابالغہ کا قتل\n",
      "قتل وغارت :Predicted as - \n",
      "\n",
      "\n"
     ]
    }
   ],
   "source": [
    "# predictions = clf.predict(test_vecs)\n",
    "# print(predictions)\n",
    "# for i, x in enumerate(clf.predict(test_vecs)):\n",
    "#   print(i, x)\n",
    "predictkeys = []\n",
    "predictvalues = []\n",
    "\n",
    "news_dict = dict(zip(X_test1, clf.predict(test_vecs)))\n",
    "for key, value in news_dict.items():\n",
    "    predictkeys.append(key)\n",
    "    predictvalues.append(value)\n",
    "    print(key)\n",
    "    print( value +' :Predicted as - ' )\n",
    "    print('\\n')\n",
    "    \n",
    "    \n",
    "# print(predictkeys, predictvalues)"
   ]
  },
  {
   "cell_type": "code",
   "execution_count": 8,
   "metadata": {},
   "outputs": [
    {
     "name": "stdout",
     "output_type": "stream",
     "text": [
      "(925, 2)\n"
     ]
    }
   ],
   "source": [
    "df = pd.DataFrame({'headline':predictkeys, 'Category':predictvalues})\n",
    "print(df.shape)\n",
    "df.to_csv('crimenewsdataset_l.csv', index=False)"
   ]
  },
  {
   "cell_type": "code",
   "execution_count": 16,
   "metadata": {},
   "outputs": [
    {
     "name": "stdout",
     "output_type": "stream",
     "text": [
      "acc 0.8548539114043355\n",
      "precision 0.8545655922604669\n",
      "rec 0.8548539114043355\n",
      "f1 0.8545720789782364\n"
     ]
    }
   ],
   "source": []
  },
  {
   "cell_type": "code",
   "execution_count": 36,
   "metadata": {},
   "outputs": [
    {
     "name": "stdout",
     "output_type": "stream",
     "text": [
      "acc 0.8426013195098964\n",
      "precision 0.8467313730061593\n",
      "rec 0.8426013195098964\n",
      "f1 0.8415593933348138\n"
     ]
    },
    {
     "name": "stderr",
     "output_type": "stream",
     "text": [
      "c:\\python39\\lib\\site-packages\\sklearn\\utils\\deprecation.py:87: FutureWarning: Function plot_confusion_matrix is deprecated; Function `plot_confusion_matrix` is deprecated in 1.0 and will be removed in 1.2. Use one of the class methods: ConfusionMatrixDisplay.from_predictions or ConfusionMatrixDisplay.from_estimator.\n",
      "  warnings.warn(msg, category=FutureWarning)\n",
      "c:\\python39\\lib\\site-packages\\IPython\\core\\pylabtools.py:132: UserWarning: Glyph 1729 (\\N{ARABIC LETTER HEH GOAL}) missing from current font.\n",
      "  fig.canvas.print_figure(bytes_io, **kw)\n",
      "c:\\python39\\lib\\site-packages\\IPython\\core\\pylabtools.py:132: UserWarning: Matplotlib currently does not support Arabic natively.\n",
      "  fig.canvas.print_figure(bytes_io, **kw)\n"
     ]
    },
    {
     "data": {
      "image/png": "[encoded data removed]",
      "text/plain": [
       "<Figure size 432x288 with 2 Axes>"
      ]
     },
     "metadata": {
      "needs_background": "light"
     },
     "output_type": "display_data"
    }
   ],
   "source": [
    "# train model\n",
    "clf = LogisticRegression().fit(train_vecs, train_labels)\n",
    "\n",
    "\n",
    "test_pred = clf.predict(test_vecs)\n",
    "acc = accuracy_score(test_labels, test_pred)\n",
    "pre, rec, f1, _ = precision_recall_fscore_support(test_labels, test_pred, average='weighted')\n",
    "print('acc', acc)\n",
    "print('precision', pre)\n",
    "print('rec', rec)\n",
    "print('f1', f1)\n",
    "\n",
    "plot_confusion_matrix(clf, train_vecs, train_labels)  \n",
    "plt.show()"
   ]
  },
  {
   "cell_type": "code",
   "execution_count": 9,
   "metadata": {},
   "outputs": [
    {
     "ename": "ValueError",
     "evalue": "Found input variables with inconsistent numbers of samples: [1061, 926]",
     "output_type": "error",
     "traceback": [
      "\u001b[1;31m---------------------------------------------------------------------------\u001b[0m",
      "\u001b[1;31mValueError\u001b[0m                                Traceback (most recent call last)",
      "\u001b[1;32m<ipython-input-9-14f39daa7f5f>\u001b[0m in \u001b[0;36m<module>\u001b[1;34m\u001b[0m\n\u001b[0;32m      1\u001b[0m \u001b[1;31m# test model\u001b[0m\u001b[1;33m\u001b[0m\u001b[1;33m\u001b[0m\u001b[1;33m\u001b[0m\u001b[0m\n\u001b[0;32m      2\u001b[0m \u001b[0mtest_pred\u001b[0m \u001b[1;33m=\u001b[0m \u001b[0mclf\u001b[0m\u001b[1;33m.\u001b[0m\u001b[0mpredict\u001b[0m\u001b[1;33m(\u001b[0m\u001b[0mtest_vecs\u001b[0m\u001b[1;33m)\u001b[0m\u001b[1;33m\u001b[0m\u001b[1;33m\u001b[0m\u001b[0m\n\u001b[1;32m----> 3\u001b[1;33m \u001b[0macc\u001b[0m \u001b[1;33m=\u001b[0m \u001b[0maccuracy_score\u001b[0m\u001b[1;33m(\u001b[0m\u001b[0mtest_labels\u001b[0m\u001b[1;33m,\u001b[0m \u001b[0mtest_pred\u001b[0m\u001b[1;33m)\u001b[0m\u001b[1;33m\u001b[0m\u001b[1;33m\u001b[0m\u001b[0m\n\u001b[0m\u001b[0;32m      4\u001b[0m \u001b[0mpre\u001b[0m\u001b[1;33m,\u001b[0m \u001b[0mrec\u001b[0m\u001b[1;33m,\u001b[0m \u001b[0mf1\u001b[0m\u001b[1;33m,\u001b[0m \u001b[0m_\u001b[0m \u001b[1;33m=\u001b[0m \u001b[0mprecision_recall_fscore_support\u001b[0m\u001b[1;33m(\u001b[0m\u001b[0mtest_labels\u001b[0m\u001b[1;33m,\u001b[0m \u001b[0mtest_pred\u001b[0m\u001b[1;33m,\u001b[0m \u001b[0maverage\u001b[0m\u001b[1;33m=\u001b[0m\u001b[1;34m'weighted'\u001b[0m\u001b[1;33m)\u001b[0m\u001b[1;33m\u001b[0m\u001b[1;33m\u001b[0m\u001b[0m\n\u001b[0;32m      5\u001b[0m \u001b[0mprint\u001b[0m\u001b[1;33m(\u001b[0m\u001b[1;34m'acc'\u001b[0m\u001b[1;33m,\u001b[0m \u001b[0macc\u001b[0m\u001b[1;33m)\u001b[0m\u001b[1;33m\u001b[0m\u001b[1;33m\u001b[0m\u001b[0m\n",
      "\u001b[1;32mc:\\python39\\lib\\site-packages\\sklearn\\metrics\\_classification.py\u001b[0m in \u001b[0;36maccuracy_score\u001b[1;34m(y_true, y_pred, normalize, sample_weight)\u001b[0m\n\u001b[0;32m    203\u001b[0m \u001b[1;33m\u001b[0m\u001b[0m\n\u001b[0;32m    204\u001b[0m     \u001b[1;31m# Compute accuracy for each possible representation\u001b[0m\u001b[1;33m\u001b[0m\u001b[1;33m\u001b[0m\u001b[1;33m\u001b[0m\u001b[0m\n\u001b[1;32m--> 205\u001b[1;33m     \u001b[0my_type\u001b[0m\u001b[1;33m,\u001b[0m \u001b[0my_true\u001b[0m\u001b[1;33m,\u001b[0m \u001b[0my_pred\u001b[0m \u001b[1;33m=\u001b[0m \u001b[0m_check_targets\u001b[0m\u001b[1;33m(\u001b[0m\u001b[0my_true\u001b[0m\u001b[1;33m,\u001b[0m \u001b[0my_pred\u001b[0m\u001b[1;33m)\u001b[0m\u001b[1;33m\u001b[0m\u001b[1;33m\u001b[0m\u001b[0m\n\u001b[0m\u001b[0;32m    206\u001b[0m     \u001b[0mcheck_consistent_length\u001b[0m\u001b[1;33m(\u001b[0m\u001b[0my_true\u001b[0m\u001b[1;33m,\u001b[0m \u001b[0my_pred\u001b[0m\u001b[1;33m,\u001b[0m \u001b[0msample_weight\u001b[0m\u001b[1;33m)\u001b[0m\u001b[1;33m\u001b[0m\u001b[1;33m\u001b[0m\u001b[0m\n\u001b[0;32m    207\u001b[0m     \u001b[1;32mif\u001b[0m \u001b[0my_type\u001b[0m\u001b[1;33m.\u001b[0m\u001b[0mstartswith\u001b[0m\u001b[1;33m(\u001b[0m\u001b[1;34m\"multilabel\"\u001b[0m\u001b[1;33m)\u001b[0m\u001b[1;33m:\u001b[0m\u001b[1;33m\u001b[0m\u001b[1;33m\u001b[0m\u001b[0m\n",
      "\u001b[1;32mc:\\python39\\lib\\site-packages\\sklearn\\metrics\\_classification.py\u001b[0m in \u001b[0;36m_check_targets\u001b[1;34m(y_true, y_pred)\u001b[0m\n\u001b[0;32m     82\u001b[0m     \u001b[0my_pred\u001b[0m \u001b[1;33m:\u001b[0m \u001b[0marray\u001b[0m \u001b[1;32mor\u001b[0m \u001b[0mindicator\u001b[0m \u001b[0mmatrix\u001b[0m\u001b[1;33m\u001b[0m\u001b[1;33m\u001b[0m\u001b[0m\n\u001b[0;32m     83\u001b[0m     \"\"\"\n\u001b[1;32m---> 84\u001b[1;33m     \u001b[0mcheck_consistent_length\u001b[0m\u001b[1;33m(\u001b[0m\u001b[0my_true\u001b[0m\u001b[1;33m,\u001b[0m \u001b[0my_pred\u001b[0m\u001b[1;33m)\u001b[0m\u001b[1;33m\u001b[0m\u001b[1;33m\u001b[0m\u001b[0m\n\u001b[0m\u001b[0;32m     85\u001b[0m     \u001b[0mtype_true\u001b[0m \u001b[1;33m=\u001b[0m \u001b[0mtype_of_target\u001b[0m\u001b[1;33m(\u001b[0m\u001b[0my_true\u001b[0m\u001b[1;33m)\u001b[0m\u001b[1;33m\u001b[0m\u001b[1;33m\u001b[0m\u001b[0m\n\u001b[0;32m     86\u001b[0m     \u001b[0mtype_pred\u001b[0m \u001b[1;33m=\u001b[0m \u001b[0mtype_of_target\u001b[0m\u001b[1;33m(\u001b[0m\u001b[0my_pred\u001b[0m\u001b[1;33m)\u001b[0m\u001b[1;33m\u001b[0m\u001b[1;33m\u001b[0m\u001b[0m\n",
      "\u001b[1;32mc:\\python39\\lib\\site-packages\\sklearn\\utils\\validation.py\u001b[0m in \u001b[0;36mcheck_consistent_length\u001b[1;34m(*arrays)\u001b[0m\n\u001b[0;32m    329\u001b[0m     \u001b[0muniques\u001b[0m \u001b[1;33m=\u001b[0m \u001b[0mnp\u001b[0m\u001b[1;33m.\u001b[0m\u001b[0munique\u001b[0m\u001b[1;33m(\u001b[0m\u001b[0mlengths\u001b[0m\u001b[1;33m)\u001b[0m\u001b[1;33m\u001b[0m\u001b[1;33m\u001b[0m\u001b[0m\n\u001b[0;32m    330\u001b[0m     \u001b[1;32mif\u001b[0m \u001b[0mlen\u001b[0m\u001b[1;33m(\u001b[0m\u001b[0muniques\u001b[0m\u001b[1;33m)\u001b[0m \u001b[1;33m>\u001b[0m \u001b[1;36m1\u001b[0m\u001b[1;33m:\u001b[0m\u001b[1;33m\u001b[0m\u001b[1;33m\u001b[0m\u001b[0m\n\u001b[1;32m--> 331\u001b[1;33m         raise ValueError(\n\u001b[0m\u001b[0;32m    332\u001b[0m             \u001b[1;34m\"Found input variables with inconsistent numbers of samples: %r\"\u001b[0m\u001b[1;33m\u001b[0m\u001b[1;33m\u001b[0m\u001b[0m\n\u001b[0;32m    333\u001b[0m             \u001b[1;33m%\u001b[0m \u001b[1;33m[\u001b[0m\u001b[0mint\u001b[0m\u001b[1;33m(\u001b[0m\u001b[0ml\u001b[0m\u001b[1;33m)\u001b[0m \u001b[1;32mfor\u001b[0m \u001b[0ml\u001b[0m \u001b[1;32min\u001b[0m \u001b[0mlengths\u001b[0m\u001b[1;33m]\u001b[0m\u001b[1;33m\u001b[0m\u001b[1;33m\u001b[0m\u001b[0m\n",
      "\u001b[1;31mValueError\u001b[0m: Found input variables with inconsistent numbers of samples: [1061, 926]"
     ]
    }
   ],
   "source": [
    "# test model\n",
    "test_pred = clf.predict(test_vecs)\n",
    "acc = accuracy_score(test_labels, test_pred)\n",
    "pre, rec, f1, _ = precision_recall_fscore_support(test_labels, test_pred, average='weighted')\n",
    "print('acc', acc)\n",
    "print('precision', pre)\n",
    "print('rec', rec)\n",
    "print('f1', f1)"
   ]
  },
  {
   "cell_type": "code",
   "execution_count": 25,
   "metadata": {},
   "outputs": [
    {
     "data": {
      "text/plain": [
       "RandomForestClassifier()"
      ]
     },
     "execution_count": 25,
     "metadata": {},
     "output_type": "execute_result"
    }
   ],
   "source": [
    "# train model\n",
    "clf = RandomForestClassifier()\n",
    "clf.fit(train_vecs, train_labels)"
   ]
  },
  {
   "cell_type": "code",
   "execution_count": 26,
   "metadata": {},
   "outputs": [
    {
     "name": "stdout",
     "output_type": "stream",
     "text": [
      "acc 0.7841658812441094\n",
      "precision 0.7883559373177383\n",
      "rec 0.7841658812441094\n",
      "f1 0.7826916277623276\n"
     ]
    },
    {
     "name": "stderr",
     "output_type": "stream",
     "text": [
      "c:\\python39\\lib\\site-packages\\sklearn\\utils\\deprecation.py:87: FutureWarning: Function plot_confusion_matrix is deprecated; Function `plot_confusion_matrix` is deprecated in 1.0 and will be removed in 1.2. Use one of the class methods: ConfusionMatrixDisplay.from_predictions or ConfusionMatrixDisplay.from_estimator.\n",
      "  warnings.warn(msg, category=FutureWarning)\n",
      "c:\\python39\\lib\\site-packages\\IPython\\core\\pylabtools.py:132: UserWarning: Glyph 1729 (\\N{ARABIC LETTER HEH GOAL}) missing from current font.\n",
      "  fig.canvas.print_figure(bytes_io, **kw)\n",
      "c:\\python39\\lib\\site-packages\\IPython\\core\\pylabtools.py:132: UserWarning: Matplotlib currently does not support Arabic natively.\n",
      "  fig.canvas.print_figure(bytes_io, **kw)\n"
     ]
    },
    {
     "data": {
      "image/png": "[encoded data removed]",
      "text/plain": [
       "<Figure size 432x288 with 2 Axes>"
      ]
     },
     "metadata": {
      "needs_background": "light"
     },
     "output_type": "display_data"
    }
   ],
   "source": [
    "# test model\n",
    "test_pred = clf.predict(test_vecs)\n",
    "acc = accuracy_score(test_labels, test_pred)\n",
    "pre, rec, f1, _ = precision_recall_fscore_support(test_labels, test_pred, average='weighted')\n",
    "print('acc', acc)\n",
    "print('precision', pre)\n",
    "print('rec', rec)\n",
    "print('f1', f1)\n",
    "\n",
    "plot_confusion_matrix(clf, train_vecs, train_labels)  \n",
    "plt.show()"
   ]
  },
  {
   "cell_type": "code",
   "execution_count": 49,
   "metadata": {},
   "outputs": [
    {
     "name": "stdout",
     "output_type": "stream",
     "text": [
      "acc 0.7700282752120641\n",
      "precision 0.8014397516346035\n",
      "rec 0.7700282752120641\n",
      "f1 0.776284169315947\n"
     ]
    }
   ],
   "source": [
    "# train model\n",
    "clf = NearestCentroid()\n",
    "clf.fit(train_vecs, train_labels)\n",
    "\n",
    "# test model\n",
    "test_pred = clf.predict(test_vecs)\n",
    "acc = accuracy_score(test_labels, test_pred)\n",
    "pre, rec, f1, _ = precision_recall_fscore_support(test_labels, test_pred, average='weighted')\n",
    "print('acc', acc)\n",
    "print('precision', pre)\n",
    "print('rec', rec)\n",
    "print('f1', f1)\n"
   ]
  },
  {
   "cell_type": "code",
   "execution_count": 53,
   "metadata": {},
   "outputs": [
    {
     "name": "stdout",
     "output_type": "stream",
     "text": [
      "acc 0.8454288407163054\n",
      "precision 0.844703305025356\n",
      "rec 0.8454288407163054\n",
      "f1 0.8448299850072926\n"
     ]
    }
   ],
   "source": [
    "# train model\n",
    "clf =  PassiveAggressiveClassifier()\n",
    "clf.fit(train_vecs, train_labels)\n",
    "\n",
    "# test model\n",
    "test_pred = clf.predict(test_vecs)\n",
    "acc = accuracy_score(test_labels, test_pred)\n",
    "pre, rec, f1, _ = precision_recall_fscore_support(test_labels, test_pred, average='weighted')\n",
    "print('acc', acc)\n",
    "print('precision', pre)\n",
    "print('rec', rec)\n",
    "print('f1', f1)"
   ]
  },
  {
   "cell_type": "code",
   "execution_count": 42,
   "metadata": {},
   "outputs": [
    {
     "data": {
      "text/plain": [
       "KNeighborsClassifier(n_neighbors=3)"
      ]
     },
     "execution_count": 42,
     "metadata": {},
     "output_type": "execute_result"
    }
   ],
   "source": [
    "neigh = KNeighborsClassifier(n_neighbors=3)\n",
    "neigh.fit(train_vecs, train_labels)\n",
    "test_pred = neigh.predict(test_vecs)\n",
    "acc = accuracy_score(test_labels, test_pred)\n",
    "pre, rec, f1, _ = precision_recall_fscore_support(test_labels, test_pred, average='weighted')\n",
    "print('acc', acc)\n",
    "print('precision', pre)\n",
    "print('rec', rec)\n",
    "print('f1', f1)\n",
    "\n",
    "plot_confusion_matrix(clf, train_vecs, train_labels)  \n",
    "plt.show()"
   ]
  },
  {
   "cell_type": "code",
   "execution_count": 46,
   "metadata": {},
   "outputs": [
    {
     "name": "stdout",
     "output_type": "stream",
     "text": [
      "acc 0.6606974552309143\n",
      "precision 0.6596612603147697\n",
      "rec 0.6606974552309143\n",
      "f1 0.6547025997145985\n"
     ]
    },
    {
     "name": "stderr",
     "output_type": "stream",
     "text": [
      "c:\\python39\\lib\\site-packages\\sklearn\\utils\\deprecation.py:87: FutureWarning: Function plot_confusion_matrix is deprecated; Function `plot_confusion_matrix` is deprecated in 1.0 and will be removed in 1.2. Use one of the class methods: ConfusionMatrixDisplay.from_predictions or ConfusionMatrixDisplay.from_estimator.\n",
      "  warnings.warn(msg, category=FutureWarning)\n",
      "c:\\python39\\lib\\site-packages\\IPython\\core\\pylabtools.py:132: UserWarning: Glyph 1729 (\\N{ARABIC LETTER HEH GOAL}) missing from current font.\n",
      "  fig.canvas.print_figure(bytes_io, **kw)\n",
      "c:\\python39\\lib\\site-packages\\IPython\\core\\pylabtools.py:132: UserWarning: Matplotlib currently does not support Arabic natively.\n",
      "  fig.canvas.print_figure(bytes_io, **kw)\n"
     ]
    },
    {
     "data": {
      "image/png": "[encoded data removed]",
      "text/plain": [
       "<Figure size 432x288 with 2 Axes>"
      ]
     },
     "metadata": {
      "needs_background": "light"
     },
     "output_type": "display_data"
    }
   ],
   "source": [
    "# train model\n",
    "# X = np.array([[-1, -1], [-2, -1], [-3, -2], [1, 1], [2, 1], [3, 2]])\n",
    "# Y = np.array([1, 1, 1, 2, 2, 2])\n",
    "# test_pred = neigh.predict(test_vecs)\n",
    "acc = accuracy_score(test_labels, test_pred)\n",
    "pre, rec, f1, _ = precision_recall_fscore_support(test_labels, test_pred, average='weighted')\n",
    "print('acc', acc)\n",
    "print('precision', pre)\n",
    "print('rec', rec)\n",
    "print('f1', f1)\n",
    "\n",
    "plot_confusion_matrix(clf, train_vecs, train_labels)  \n",
    "plt.show()"
   ]
  },
  {
   "cell_type": "code",
   "execution_count": null,
   "metadata": {},
   "outputs": [],
   "source": [
    "# test model\n",
    "test_pred = clf.predict(test_vecs)\n",
    "acc = accuracy_score(test_labels, test_pred)\n",
    "pre, rec, f1, _ = precision_recall_fscore_support(test_labels, test_pred, average='weighted')\n",
    "print('acc', acc)\n",
    "print('precision', pre)\n",
    "print('rec', rec)\n",
    "print('f1', f1)"
   ]
  },
  {
   "cell_type": "code",
   "execution_count": null,
   "metadata": {},
   "outputs": [],
   "source": [
    "# test model\n",
    "\n",
    "clf_pf = GaussianNB()\n",
    "clf_pf.partial_fit(train_vecs, train_labels)\n",
    "\n",
    "test_pred = clf_pf.predict(test_vecs)\n",
    "acc = accuracy_score(test_labels, test_pred)\n",
    "pre, rec, f1, _ = precision_recall_fscore_support(test_labels, test_pred, average='weighted')\n",
    "print('acc', acc)\n",
    "print('precision', pre)\n",
    "print('rec', rec)\n",
    "print('f1', f1)"
   ]
  }
 ],
 "metadata": {
  "kernelspec": {
   "display_name": "Python 3",
   "language": "python",
   "name": "python3"
  },
  "language_info": {
   "codemirror_mode": {
    "name": "ipython",
    "version": 3
   },
   "file_extension": ".py",
   "mimetype": "text/x-python",
   "name": "python",
   "nbconvert_exporter": "python",
   "pygments_lexer": "ipython3",
   "version": "3.9.0"
  }
 },
 "nbformat": 4,
 "nbformat_minor": 4
}
